{
 "cells": [
  {
   "cell_type": "code",
   "execution_count": 1,
   "id": "a9096540",
   "metadata": {},
   "outputs": [],
   "source": [
    "import pandas as pd\n",
    "from sklearn.model_selection import train_test_split\n",
    "from sklearn.ensemble import RandomForestClassifier\n",
    "from sklearn.preprocessing import StandardScaler\n",
    "from sklearn.metrics import classification_report, confusion_matrix\n",
    "import joblib\n",
    "import os"
   ]
  },
  {
   "cell_type": "code",
   "execution_count": 2,
   "id": "04ade771",
   "metadata": {},
   "outputs": [],
   "source": [
    "# --- Configuration ---\n",
    "# The name of the dataset file you downloaded from UCI\n",
    "TRAINING_DATA_FILE = 'forestfires.csv' \n",
    "# The directory where the final model files will be saved\n",
    "MODEL_DIR = 'model'"
   ]
  },
  {
   "cell_type": "code",
   "execution_count": 3,
   "id": "4e779145",
   "metadata": {},
   "outputs": [
    {
     "name": "stdout",
     "output_type": "stream",
     "text": [
      "Loading data from 'forestfires.csv'...\n"
     ]
    }
   ],
   "source": [
    "# --- 1. Load the Dataset ---\n",
    "print(f\"Loading data from '{TRAINING_DATA_FILE}'...\")\n",
    "try:\n",
    "    df = pd.read_csv(TRAINING_DATA_FILE)\n",
    "except FileNotFoundError:\n",
    "    print(f\"Error: The file '{TRAINING_DATA_FILE}' was not found. Please make sure it's in the correct directory.\")\n",
    "    exit()\n"
   ]
  },
  {
   "cell_type": "code",
   "execution_count": 4,
   "id": "af9d4851",
   "metadata": {},
   "outputs": [
    {
     "name": "stdout",
     "output_type": "stream",
     "text": [
      "Preparing data for training...\n"
     ]
    }
   ],
   "source": [
    "# --- 2. Prepare the Data for Training ---\n",
    "print(\"Preparing data for training...\")\n",
    "\n",
    "# The original target is 'area' (a number). We will convert this into a binary\n",
    "# classification problem: does a fire exist (1) or not (0)?\n",
    "df['fire'] = (df['area'] > 0).astype(int)\n",
    "\n",
    "# For this model, we'll drop the original text-based and target columns.\n",
    "df = df.drop(columns=['month', 'day', 'area'])\n",
    "\n",
    "# 'X' will contain our features (the clues), and 'y' will contain our new binary label.\n",
    "X = df.drop('fire', axis=1)\n",
    "y = df['fire']\n",
    "\n",
    "# IMPORTANT: Save the list of feature names. The Streamlit app will need this.\n",
    "feature_names = list(X.columns)\n",
    "\n",
    "# Scale the features. This helps the model perform better.\n",
    "scaler = StandardScaler()\n",
    "X_scaled = scaler.fit_transform(X)\n",
    "\n",
    "# Split the data into a training set (to teach the model) and a testing set (to evaluate it).\n",
    "X_train, X_test, y_train, y_test = train_test_split(\n",
    "    X_scaled, y, test_size=0.2, random_state=42, stratify=y\n",
    ")"
   ]
  },
  {
   "cell_type": "code",
   "execution_count": 5,
   "id": "8657b030",
   "metadata": {},
   "outputs": [
    {
     "name": "stdout",
     "output_type": "stream",
     "text": [
      "Training the Random Forest model...\n",
      "Model training complete.\n"
     ]
    }
   ],
   "source": [
    "# --- 3. Train the Random Forest Model ---\n",
    "print(\"Training the Random Forest model...\")\n",
    "# n_jobs=-1 uses all available CPU cores to speed up training.\n",
    "model = RandomForestClassifier(n_estimators=100, random_state=42, n_jobs=-1)\n",
    "model.fit(X_train, y_train)\n",
    "print(\"Model training complete.\")"
   ]
  },
  {
   "cell_type": "code",
   "execution_count": 6,
   "id": "5b44b381",
   "metadata": {},
   "outputs": [
    {
     "name": "stdout",
     "output_type": "stream",
     "text": [
      "\n",
      "--- Model Evaluation ---\n",
      "              precision    recall  f1-score   support\n",
      "\n",
      "           0       0.60      0.58      0.59        50\n",
      "           1       0.62      0.65      0.64        54\n",
      "\n",
      "    accuracy                           0.62       104\n",
      "   macro avg       0.61      0.61      0.61       104\n",
      "weighted avg       0.61      0.62      0.61       104\n",
      "\n",
      "Confusion Matrix:\n",
      "[[29 21]\n",
      " [19 35]]\n",
      "----------------------\n",
      "\n"
     ]
    }
   ],
   "source": [
    "# --- 4. Evaluate the Model's Performance ---\n",
    "print(\"\\n--- Model Evaluation ---\")\n",
    "y_pred = model.predict(X_test)\n",
    "# The report shows key metrics like precision and recall.\n",
    "print(classification_report(y_test, y_pred, zero_division=0))\n",
    "print(\"Confusion Matrix:\")\n",
    "print(confusion_matrix(y_test, y_pred))\n",
    "print(\"----------------------\\n\")\n"
   ]
  },
  {
   "cell_type": "code",
   "execution_count": 7,
   "id": "9f12ab25",
   "metadata": {},
   "outputs": [
    {
     "name": "stdout",
     "output_type": "stream",
     "text": [
      "Saving model, scaler, and feature names...\n",
      "✅ Success! All model files have been saved to the 'model' directory.\n"
     ]
    }
   ],
   "source": [
    "# --- 5. Save the Final Model, Scaler, and Feature List ---\n",
    "# Create the /model directory if it doesn't exist\n",
    "if not os.path.exists(MODEL_DIR):\n",
    "    os.makedirs(MODEL_DIR)\n",
    "\n",
    "print(\"Saving model, scaler, and feature names...\")\n",
    "joblib.dump(model, os.path.join(MODEL_DIR, 'fire_prediction_model.joblib'))\n",
    "joblib.dump(scaler, os.path.join(MODEL_DIR, 'feature_scaler.joblib'))\n",
    "joblib.dump(feature_names, os.path.join(MODEL_DIR, 'feature_names.joblib'))\n",
    "\n",
    "print(f\"✅ Success! All model files have been saved to the '{MODEL_DIR}' directory.\")"
   ]
  }
 ],
 "metadata": {
  "kernelspec": {
   "display_name": ".venv",
   "language": "python",
   "name": "python3"
  },
  "language_info": {
   "codemirror_mode": {
    "name": "ipython",
    "version": 3
   },
   "file_extension": ".py",
   "mimetype": "text/x-python",
   "name": "python",
   "nbconvert_exporter": "python",
   "pygments_lexer": "ipython3",
   "version": "3.13.7"
  }
 },
 "nbformat": 4,
 "nbformat_minor": 5
}
